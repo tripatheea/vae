{
 "cells": [
  {
   "cell_type": "code",
   "execution_count": 14,
   "id": "edc57752",
   "metadata": {},
   "outputs": [],
   "source": [
    "import h5py\n",
    "from matplotlib import pyplot as plt"
   ]
  },
  {
   "cell_type": "code",
   "execution_count": 7,
   "id": "8c4c965d",
   "metadata": {},
   "outputs": [],
   "source": [
    "f = h5py.File(\"public_test_set/test_waveforms/data_1.h5py\")"
   ]
  },
  {
   "cell_type": "code",
   "execution_count": 8,
   "id": "1abdc3c0",
   "metadata": {},
   "outputs": [
    {
     "data": {
      "text/plain": [
       "<KeysViewHDF5 ['KL_cycles', 'M_max', 'M_min', 'Make_sky_plot', '__definition__KL_cycles', '__definition__M', '__definition___resume_training', '__definition__a_1', '__definition__a_2', '__definition__batch_norm', '__definition__batch_size', '__definition__bilby_result_label', '__definition__boost_pars', '__definition__by_channel', '__definition__conv_strides_q', '__definition__conv_strides_r1', '__definition__conv_strides_r2', '__definition__convert_to_hour_angle', '__definition__corner_labels', '__definition__dec', '__definition__det', '__definition__doPE', '__definition__drate', '__definition__duration', '__definition__extra_decay_factor', '__definition__figure_sampler_names', '__definition__filter_size_q', '__definition__filter_size_r1', '__definition__filter_size_r2', '__definition__gauss_pars', '__definition__geocent_time', '__definition__gpu_num', '__definition__hyperparam_n_call', '__definition__hyperparam_optim', '__definition__hyperparam_optim_stop', '__definition__inf_pars', '__definition__initial_training_rate', '__definition__load_by_chunks', '__definition__load_chunk_size', '__definition__load_iteration', '__definition__load_plot_data', '__definition__luminosity_distance', '__definition__make_corner_plots', '__definition__make_kl_plot', '__definition__make_loss_plot', '__definition__make_pp_plot', '__definition__make_sky_plot', '__definition__mass_1', '__definition__mass_2', '__definition__maxpool_q', '__definition__maxpool_r1', '__definition__n_filters_q', '__definition__n_filters_r1', '__definition__n_filters_r2', '__definition__n_modes', '__definition__n_samples', '__definition__n_weights_q', '__definition__n_weights_r1', '__definition__n_weights_r2', '__definition__ndata', '__definition__num_iterations', '__definition__pe_dir', '__definition__phase', '__definition__phi12', '__definition__plot_dir', '__definition__plot_interval', '__definition__pool_strides_q', '__definition__pool_strides_r2', '__definition__print_values', '__definition__psd_files', '__definition__psi', '__definition__r', '__definition__ra', '__definition__ramp', '__definition__ramp_end', '__definition__ramp_start', '__definition__rand_pars', '__definition__ref_geocent_time', '__definition__report_interval', '__definition__run_label', '__definition__samplers', '__definition__save_interval', '__definition__sky_pars', '__definition__test_set_dir', '__definition__testing_data_seed', '__definition__theta_jn', '__definition__tilt1', '__definition__tilt2', '__definition__tot_dataset_size', '__definition__train_set_dir', '__definition__training_data_seed', '__definition__tset_split', '__definition__use_real_det_noise', '__definition__use_real_events', '__definition__vonmises_pars', '__definition__weight_init', '__definition__weighted_pars', '__definition__weighted_pars_factor', '__definition__y_normscale', '__definition__z_dimension', '__definition_maxpool_r2', '__definition_phijl', '__definition_pool_strides_r1', 'a_1_max', 'a_1_min', 'a_2_max', 'a_2_min', 'batch_norm', 'batch_size', 'bilby_results_label', 'by_channel', 'conv_strides_q', 'conv_strides_r1', 'conv_strides_r2', 'convert_to_hour_angle', 'dec_max', 'dec_min', 'doPE', 'drate', 'duration', 'extra_lr_decay_factor', 'filter_size_q', 'filter_size_r1', 'filter_size_r2', 'geocent_time_max', 'geocent_time_min', 'gpu_num', 'hyperparam_n_call', 'hyperparam_optim', 'hyperparam_optim_stop', 'initial_training_rate', 'load_by_chunks', 'load_chunk_size', 'load_iteration', 'load_plot_data', 'load_plotmartin_shape_error_data', 'luminosity_distance_max', 'luminosity_distance_min', 'make_corner_plots', 'make_kl_plot', 'make_loss_plot', 'make_pp_plot', 'mass_1_max', 'mass_1_min', 'mass_2_max', 'mass_2_min', 'maxpool_q', 'maxpool_r1', 'maxpool_r2', 'n_filters_q', 'n_filters_r1', 'n_filters_r2', 'n_modes', 'n_samples', 'n_weights_q', 'n_weights_r1', 'n_weights_r2', 'ndata', 'num_iterations', 'pe_dir', 'phase_max', 'phase_min', 'phi_12_max', 'phi_12_min', 'phi_jl_max', 'phi_jl_min', 'plot_dir', 'plot_interval', 'pool_strides_q', 'pool_strides_r1', 'pool_strides_r2', 'print_values', 'psd_files', 'psi_max', 'psi_min', 'r', 'ra_max', 'ra_min', 'ramp', 'ramp_end', 'ramp_start', 'rand_pars', 'ref_geocent_time', 'report_interval', 'resume_training', 'run_label', 'save_interval', 'snrs', 'test_set_dir', 'testing_data_seed', 'theta_jn_max', 'theta_jn_min', 'tilt_1_max', 'tilt_1_min', 'tilt_2_max', 'tilt_2_min', 'tot_dataset_size', 'train_set_dir', 'training_data_seed', 'tset_split', 'use_real_det_noise', 'use_real_events', 'weight_init', 'weighted_pars_factor', 'x_data', 'y_data_noisefree', 'y_data_noisy', 'y_normscale', 'z_dimension']>"
      ]
     },
     "execution_count": 8,
     "metadata": {},
     "output_type": "execute_result"
    }
   ],
   "source": [
    "f.keys()"
   ]
  },
  {
   "cell_type": "code",
   "execution_count": 10,
   "id": "9474b4a3",
   "metadata": {},
   "outputs": [],
   "source": [
    "x, y = f['x_data'], f['y_data_noisefree']"
   ]
  },
  {
   "cell_type": "code",
   "execution_count": 20,
   "id": "30be4164",
   "metadata": {},
   "outputs": [
    {
     "data": {
      "text/plain": [
       "<HDF5 dataset \"x_data\": shape (1, 7), type \"<f8\">"
      ]
     },
     "execution_count": 20,
     "metadata": {},
     "output_type": "execute_result"
    }
   ],
   "source": [
    "x"
   ]
  },
  {
   "cell_type": "code",
   "execution_count": 11,
   "id": "8f453ab0",
   "metadata": {},
   "outputs": [
    {
     "data": {
      "text/plain": [
       "array([[ 7.95055181e+01,  5.97295127e+01,  1.94561594e+03,\n",
       "         2.38893899e-01,  4.44197079e-01,  1.76838555e+00,\n",
       "        -1.00735267e+00]])"
      ]
     },
     "execution_count": 11,
     "metadata": {},
     "output_type": "execute_result"
    }
   ],
   "source": [
    "x[()]"
   ]
  },
  {
   "cell_type": "code",
   "execution_count": 19,
   "id": "07516273",
   "metadata": {},
   "outputs": [
    {
     "data": {
      "text/plain": [
       "[<matplotlib.lines.Line2D at 0x7fbfeb7de040>]"
      ]
     },
     "execution_count": 19,
     "metadata": {},
     "output_type": "execute_result"
    },
    {
     "data": {
      "image/png": "[encoded data removed]",
      "text/plain": [
       "<Figure size 432x288 with 1 Axes>"
      ]
     },
     "metadata": {
      "needs_background": "light"
     },
     "output_type": "display_data"
    }
   ],
   "source": [
    "plt.plot(y[()][2])"
   ]
  },
  {
   "cell_type": "code",
   "execution_count": null,
   "id": "f2a9cb69",
   "metadata": {},
   "outputs": [],
   "source": []
  }
 ],
 "metadata": {
  "kernelspec": {
   "display_name": "Python 3",
   "language": "python",
   "name": "python3"
  },
  "language_info": {
   "codemirror_mode": {
    "name": "ipython",
    "version": 3
   },
   "file_extension": ".py",
   "mimetype": "text/x-python",
   "name": "python",
   "nbconvert_exporter": "python",
   "pygments_lexer": "ipython3",
   "version": "3.8.10"
  }
 },
 "nbformat": 4,
 "nbformat_minor": 5
}
